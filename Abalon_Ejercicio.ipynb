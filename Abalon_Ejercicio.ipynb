{
 "cells": [
  {
   "cell_type": "code",
   "execution_count": 1,
   "metadata": {},
   "outputs": [],
   "source": [
    "import pandas as pd\n",
    "import numpy as np\n",
    "from sklearn.model_selection import train_test_split\n",
    "from sklearn.compose import make_column_selector\n",
    "from sklearn.preprocessing import StandardScaler, OneHotEncoder"
   ]
  },
  {
   "cell_type": "code",
   "execution_count": 2,
   "metadata": {},
   "outputs": [],
   "source": [
    "datos = pd.read_csv(r'C:\\Users\\pedro\\Desktop\\Data Science\\Machine Learning\\Intro to ML\\abalone.data')"
   ]
  },
  {
   "cell_type": "code",
   "execution_count": 4,
   "metadata": {},
   "outputs": [
    {
     "data": {
      "text/html": [
       "<div>\n",
       "<style scoped>\n",
       "    .dataframe tbody tr th:only-of-type {\n",
       "        vertical-align: middle;\n",
       "    }\n",
       "\n",
       "    .dataframe tbody tr th {\n",
       "        vertical-align: top;\n",
       "    }\n",
       "\n",
       "    .dataframe thead th {\n",
       "        text-align: right;\n",
       "    }\n",
       "</style>\n",
       "<table border=\"1\" class=\"dataframe\">\n",
       "  <thead>\n",
       "    <tr style=\"text-align: right;\">\n",
       "      <th></th>\n",
       "      <th>M</th>\n",
       "      <th>0.455</th>\n",
       "      <th>0.365</th>\n",
       "      <th>0.095</th>\n",
       "      <th>0.514</th>\n",
       "      <th>0.2245</th>\n",
       "      <th>0.101</th>\n",
       "      <th>0.15</th>\n",
       "      <th>15</th>\n",
       "    </tr>\n",
       "  </thead>\n",
       "  <tbody>\n",
       "    <tr>\n",
       "      <th>0</th>\n",
       "      <td>M</td>\n",
       "      <td>0.350</td>\n",
       "      <td>0.265</td>\n",
       "      <td>0.090</td>\n",
       "      <td>0.2255</td>\n",
       "      <td>0.0995</td>\n",
       "      <td>0.0485</td>\n",
       "      <td>0.070</td>\n",
       "      <td>7</td>\n",
       "    </tr>\n",
       "    <tr>\n",
       "      <th>1</th>\n",
       "      <td>F</td>\n",
       "      <td>0.530</td>\n",
       "      <td>0.420</td>\n",
       "      <td>0.135</td>\n",
       "      <td>0.6770</td>\n",
       "      <td>0.2565</td>\n",
       "      <td>0.1415</td>\n",
       "      <td>0.210</td>\n",
       "      <td>9</td>\n",
       "    </tr>\n",
       "    <tr>\n",
       "      <th>2</th>\n",
       "      <td>M</td>\n",
       "      <td>0.440</td>\n",
       "      <td>0.365</td>\n",
       "      <td>0.125</td>\n",
       "      <td>0.5160</td>\n",
       "      <td>0.2155</td>\n",
       "      <td>0.1140</td>\n",
       "      <td>0.155</td>\n",
       "      <td>10</td>\n",
       "    </tr>\n",
       "    <tr>\n",
       "      <th>3</th>\n",
       "      <td>I</td>\n",
       "      <td>0.330</td>\n",
       "      <td>0.255</td>\n",
       "      <td>0.080</td>\n",
       "      <td>0.2050</td>\n",
       "      <td>0.0895</td>\n",
       "      <td>0.0395</td>\n",
       "      <td>0.055</td>\n",
       "      <td>7</td>\n",
       "    </tr>\n",
       "    <tr>\n",
       "      <th>4</th>\n",
       "      <td>I</td>\n",
       "      <td>0.425</td>\n",
       "      <td>0.300</td>\n",
       "      <td>0.095</td>\n",
       "      <td>0.3515</td>\n",
       "      <td>0.1410</td>\n",
       "      <td>0.0775</td>\n",
       "      <td>0.120</td>\n",
       "      <td>8</td>\n",
       "    </tr>\n",
       "  </tbody>\n",
       "</table>\n",
       "</div>"
      ],
      "text/plain": [
       "   M  0.455  0.365  0.095   0.514  0.2245   0.101   0.15  15\n",
       "0  M  0.350  0.265  0.090  0.2255  0.0995  0.0485  0.070   7\n",
       "1  F  0.530  0.420  0.135  0.6770  0.2565  0.1415  0.210   9\n",
       "2  M  0.440  0.365  0.125  0.5160  0.2155  0.1140  0.155  10\n",
       "3  I  0.330  0.255  0.080  0.2050  0.0895  0.0395  0.055   7\n",
       "4  I  0.425  0.300  0.095  0.3515  0.1410  0.0775  0.120   8"
      ]
     },
     "execution_count": 4,
     "metadata": {},
     "output_type": "execute_result"
    }
   ],
   "source": [
    "datos.head()"
   ]
  },
  {
   "cell_type": "code",
   "execution_count": 9,
   "metadata": {},
   "outputs": [
    {
     "data": {
      "text/html": [
       "<div>\n",
       "<style scoped>\n",
       "    .dataframe tbody tr th:only-of-type {\n",
       "        vertical-align: middle;\n",
       "    }\n",
       "\n",
       "    .dataframe tbody tr th {\n",
       "        vertical-align: top;\n",
       "    }\n",
       "\n",
       "    .dataframe thead th {\n",
       "        text-align: right;\n",
       "    }\n",
       "</style>\n",
       "<table border=\"1\" class=\"dataframe\">\n",
       "  <thead>\n",
       "    <tr style=\"text-align: right;\">\n",
       "      <th></th>\n",
       "      <th>Sex</th>\n",
       "      <th>Lenght</th>\n",
       "      <th>Diameter</th>\n",
       "      <th>Height</th>\n",
       "      <th>Whole weight</th>\n",
       "      <th>Shucked weight</th>\n",
       "      <th>Viscera weight</th>\n",
       "      <th>Shell weight</th>\n",
       "      <th>Rings</th>\n",
       "    </tr>\n",
       "  </thead>\n",
       "  <tbody>\n",
       "    <tr>\n",
       "      <th>0</th>\n",
       "      <td>M</td>\n",
       "      <td>0.350</td>\n",
       "      <td>0.265</td>\n",
       "      <td>0.090</td>\n",
       "      <td>0.2255</td>\n",
       "      <td>0.0995</td>\n",
       "      <td>0.0485</td>\n",
       "      <td>0.070</td>\n",
       "      <td>7</td>\n",
       "    </tr>\n",
       "    <tr>\n",
       "      <th>1</th>\n",
       "      <td>F</td>\n",
       "      <td>0.530</td>\n",
       "      <td>0.420</td>\n",
       "      <td>0.135</td>\n",
       "      <td>0.6770</td>\n",
       "      <td>0.2565</td>\n",
       "      <td>0.1415</td>\n",
       "      <td>0.210</td>\n",
       "      <td>9</td>\n",
       "    </tr>\n",
       "    <tr>\n",
       "      <th>2</th>\n",
       "      <td>M</td>\n",
       "      <td>0.440</td>\n",
       "      <td>0.365</td>\n",
       "      <td>0.125</td>\n",
       "      <td>0.5160</td>\n",
       "      <td>0.2155</td>\n",
       "      <td>0.1140</td>\n",
       "      <td>0.155</td>\n",
       "      <td>10</td>\n",
       "    </tr>\n",
       "    <tr>\n",
       "      <th>3</th>\n",
       "      <td>I</td>\n",
       "      <td>0.330</td>\n",
       "      <td>0.255</td>\n",
       "      <td>0.080</td>\n",
       "      <td>0.2050</td>\n",
       "      <td>0.0895</td>\n",
       "      <td>0.0395</td>\n",
       "      <td>0.055</td>\n",
       "      <td>7</td>\n",
       "    </tr>\n",
       "    <tr>\n",
       "      <th>4</th>\n",
       "      <td>I</td>\n",
       "      <td>0.425</td>\n",
       "      <td>0.300</td>\n",
       "      <td>0.095</td>\n",
       "      <td>0.3515</td>\n",
       "      <td>0.1410</td>\n",
       "      <td>0.0775</td>\n",
       "      <td>0.120</td>\n",
       "      <td>8</td>\n",
       "    </tr>\n",
       "  </tbody>\n",
       "</table>\n",
       "</div>"
      ],
      "text/plain": [
       "  Sex  Lenght  Diameter  Height  Whole weight  Shucked weight  Viscera weight  \\\n",
       "0   M   0.350     0.265   0.090        0.2255          0.0995          0.0485   \n",
       "1   F   0.530     0.420   0.135        0.6770          0.2565          0.1415   \n",
       "2   M   0.440     0.365   0.125        0.5160          0.2155          0.1140   \n",
       "3   I   0.330     0.255   0.080        0.2050          0.0895          0.0395   \n",
       "4   I   0.425     0.300   0.095        0.3515          0.1410          0.0775   \n",
       "\n",
       "   Shell weight  Rings  \n",
       "0         0.070      7  \n",
       "1         0.210      9  \n",
       "2         0.155     10  \n",
       "3         0.055      7  \n",
       "4         0.120      8  "
      ]
     },
     "execution_count": 9,
     "metadata": {},
     "output_type": "execute_result"
    }
   ],
   "source": [
    "datos.columns =['Sex','Lenght','Diameter','Height','Whole weight','Shucked weight','Viscera weight','Shell weight','Rings']\n",
    "datos.head()"
   ]
  },
  {
   "attachments": {},
   "cell_type": "markdown",
   "metadata": {},
   "source": [
    "Name\t\tData Type\tMeas.\tDescription\n",
    "\t----\t\t---------\t-----\t-----------\n",
    "\tSex\t\tnominal\t\t\tM, F, and I (infant)\n",
    "\tLength\t\tcontinuous\tmm\tLongest shell measurement\n",
    "\tDiameter\tcontinuous\tmm\tperpendicular to length\n",
    "\tHeight\t\tcontinuous\tmm\twith meat in shell\n",
    "\tWhole weight\tcontinuous\tgrams\twhole abalone\n",
    "\tShucked weight\tcontinuous\tgrams\tweight of meat\n",
    "\tViscera weight\tcontinuous\tgrams\tgut weight (after bleeding)\n",
    "\tShell weight\tcontinuous\tgrams\tafter being dried\n",
    "\tRings\t\tinteger\t\t\t+1.5 gives the age in years"
   ]
  },
  {
   "cell_type": "code",
   "execution_count": 10,
   "metadata": {},
   "outputs": [],
   "source": [
    "X = datos.drop(columns = 'Rings')\n",
    "y = datos['Rings']\n",
    "X_train, X_test, y_train, y_test = train_test_split(X, y, random_state = 42)"
   ]
  },
  {
   "cell_type": "code",
   "execution_count": 11,
   "metadata": {},
   "outputs": [],
   "source": [
    "cat_selector = make_column_selector(dtype_include='object')\n",
    "num_selector = make_column_selector(dtype_include='number')"
   ]
  },
  {
   "cell_type": "code",
   "execution_count": 12,
   "metadata": {},
   "outputs": [],
   "source": [
    "scaler = StandardScaler()\n",
    "ohe = OneHotEncoder(handle_unknown='ignore')"
   ]
  },
  {
   "cell_type": "code",
   "execution_count": 13,
   "metadata": {},
   "outputs": [],
   "source": [
    "num_tuple = (scaler, num_selector)\n",
    "cat_tuple = (ohe, cat_selector)"
   ]
  },
  {
   "cell_type": "code",
   "execution_count": 14,
   "metadata": {},
   "outputs": [],
   "source": [
    "from sklearn.compose import make_column_transformer\n",
    "col_transformer = make_column_transformer(num_tuple, cat_tuple, remainder = 'passthrough')"
   ]
  },
  {
   "cell_type": "code",
   "execution_count": 15,
   "metadata": {},
   "outputs": [
    {
     "data": {
      "text/plain": [
       "ColumnTransformer(remainder='passthrough',\n",
       "                  transformers=[('standardscaler', StandardScaler(),\n",
       "                                 <sklearn.compose._column_transformer.make_column_selector object at 0x00000210AB120AC8>),\n",
       "                                ('onehotencoder',\n",
       "                                 OneHotEncoder(handle_unknown='ignore'),\n",
       "                                 <sklearn.compose._column_transformer.make_column_selector object at 0x00000210AB1207F0>)])"
      ]
     },
     "execution_count": 15,
     "metadata": {},
     "output_type": "execute_result"
    }
   ],
   "source": [
    "col_transformer.fit(X_train)"
   ]
  },
  {
   "cell_type": "code",
   "execution_count": 16,
   "metadata": {},
   "outputs": [],
   "source": [
    "X_train_processed = col_transformer.transform(X_train)\n",
    "X_test_processed = col_transformer.transform(X_test)"
   ]
  },
  {
   "cell_type": "code",
   "execution_count": 23,
   "metadata": {},
   "outputs": [
    {
     "data": {
      "text/plain": [
       "array([[-1.54642176, -1.5561698 , -1.05355826, ...,  0.        ,\n",
       "         0.        ,  1.        ],\n",
       "       [ 0.79572536,  0.52191671,  0.7068688 , ...,  0.        ,\n",
       "         0.        ,  1.        ],\n",
       "       [ 0.25201264,  0.31917656,  0.35478338, ...,  1.        ,\n",
       "         0.        ,  0.        ],\n",
       "       ...,\n",
       "       [-0.04075575,  0.21780648,  0.23742158, ...,  1.        ,\n",
       "         0.        ,  0.        ],\n",
       "       [ 0.41930886,  0.52191671,  0.23742158, ...,  1.        ,\n",
       "         0.        ,  0.        ],\n",
       "       [ 0.58660508,  0.57260174,  0.00269797, ...,  1.        ,\n",
       "         0.        ,  0.        ]])"
      ]
     },
     "execution_count": 23,
     "metadata": {},
     "output_type": "execute_result"
    }
   ],
   "source": [
    "X_train_processed"
   ]
  },
  {
   "cell_type": "code",
   "execution_count": 24,
   "metadata": {},
   "outputs": [
    {
     "data": {
      "text/plain": [
       "array([[ 0.75390131,  0.927397  ,  0.8242306 , ...,  1.        ,\n",
       "         0.        ,  0.        ],\n",
       "       [ 0.54478103,  0.57260174,  0.23742158, ...,  1.        ,\n",
       "         0.        ,  0.        ],\n",
       "       [ 0.08471641,  0.11643641,  0.12005978, ...,  0.        ,\n",
       "         1.        ,  0.        ],\n",
       "       ...,\n",
       "       [ 0.46113292,  0.72465685,  0.9415924 , ...,  1.        ,\n",
       "         0.        ,  0.        ],\n",
       "       [ 0.96302159,  1.07945211,  1.52840142, ...,  1.        ,\n",
       "         0.        ,  0.        ],\n",
       "       [-1.21182931, -0.84657929, -0.70147285, ...,  1.        ,\n",
       "         0.        ,  0.        ]])"
      ]
     },
     "execution_count": 24,
     "metadata": {},
     "output_type": "execute_result"
    }
   ],
   "source": [
    "X_test_processed"
   ]
  },
  {
   "cell_type": "code",
   "execution_count": 17,
   "metadata": {},
   "outputs": [
    {
     "data": {
      "text/html": [
       "<div>\n",
       "<style scoped>\n",
       "    .dataframe tbody tr th:only-of-type {\n",
       "        vertical-align: middle;\n",
       "    }\n",
       "\n",
       "    .dataframe tbody tr th {\n",
       "        vertical-align: top;\n",
       "    }\n",
       "\n",
       "    .dataframe thead th {\n",
       "        text-align: right;\n",
       "    }\n",
       "</style>\n",
       "<table border=\"1\" class=\"dataframe\">\n",
       "  <thead>\n",
       "    <tr style=\"text-align: right;\">\n",
       "      <th></th>\n",
       "      <th>0</th>\n",
       "      <th>1</th>\n",
       "      <th>2</th>\n",
       "      <th>3</th>\n",
       "      <th>4</th>\n",
       "      <th>5</th>\n",
       "      <th>6</th>\n",
       "      <th>7</th>\n",
       "      <th>8</th>\n",
       "      <th>9</th>\n",
       "    </tr>\n",
       "  </thead>\n",
       "  <tbody>\n",
       "    <tr>\n",
       "      <th>0</th>\n",
       "      <td>-1.546422</td>\n",
       "      <td>-1.556170</td>\n",
       "      <td>-1.053558</td>\n",
       "      <td>-1.258947</td>\n",
       "      <td>-1.260633</td>\n",
       "      <td>-1.337852</td>\n",
       "      <td>-1.212341</td>\n",
       "      <td>0.0</td>\n",
       "      <td>0.0</td>\n",
       "      <td>1.0</td>\n",
       "    </tr>\n",
       "    <tr>\n",
       "      <th>1</th>\n",
       "      <td>0.795725</td>\n",
       "      <td>0.521917</td>\n",
       "      <td>0.706869</td>\n",
       "      <td>0.605245</td>\n",
       "      <td>0.789463</td>\n",
       "      <td>0.749584</td>\n",
       "      <td>0.409117</td>\n",
       "      <td>0.0</td>\n",
       "      <td>0.0</td>\n",
       "      <td>1.0</td>\n",
       "    </tr>\n",
       "    <tr>\n",
       "      <th>2</th>\n",
       "      <td>0.252013</td>\n",
       "      <td>0.319177</td>\n",
       "      <td>0.354783</td>\n",
       "      <td>0.378850</td>\n",
       "      <td>0.602065</td>\n",
       "      <td>0.040129</td>\n",
       "      <td>0.172355</td>\n",
       "      <td>1.0</td>\n",
       "      <td>0.0</td>\n",
       "      <td>0.0</td>\n",
       "    </tr>\n",
       "    <tr>\n",
       "      <th>3</th>\n",
       "      <td>1.172142</td>\n",
       "      <td>0.927397</td>\n",
       "      <td>0.824231</td>\n",
       "      <td>1.234461</td>\n",
       "      <td>1.277152</td>\n",
       "      <td>1.490874</td>\n",
       "      <td>0.940037</td>\n",
       "      <td>1.0</td>\n",
       "      <td>0.0</td>\n",
       "      <td>0.0</td>\n",
       "    </tr>\n",
       "    <tr>\n",
       "      <th>4</th>\n",
       "      <td>-1.462774</td>\n",
       "      <td>-1.454800</td>\n",
       "      <td>-1.170920</td>\n",
       "      <td>-1.233452</td>\n",
       "      <td>-1.177094</td>\n",
       "      <td>-1.205966</td>\n",
       "      <td>-1.212341</td>\n",
       "      <td>0.0</td>\n",
       "      <td>0.0</td>\n",
       "      <td>1.0</td>\n",
       "    </tr>\n",
       "  </tbody>\n",
       "</table>\n",
       "</div>"
      ],
      "text/plain": [
       "          0         1         2         3         4         5         6    7  \\\n",
       "0 -1.546422 -1.556170 -1.053558 -1.258947 -1.260633 -1.337852 -1.212341  0.0   \n",
       "1  0.795725  0.521917  0.706869  0.605245  0.789463  0.749584  0.409117  0.0   \n",
       "2  0.252013  0.319177  0.354783  0.378850  0.602065  0.040129  0.172355  1.0   \n",
       "3  1.172142  0.927397  0.824231  1.234461  1.277152  1.490874  0.940037  1.0   \n",
       "4 -1.462774 -1.454800 -1.170920 -1.233452 -1.177094 -1.205966 -1.212341  0.0   \n",
       "\n",
       "     8    9  \n",
       "0  0.0  1.0  \n",
       "1  0.0  1.0  \n",
       "2  0.0  0.0  \n",
       "3  0.0  0.0  \n",
       "4  0.0  1.0  "
      ]
     },
     "execution_count": 17,
     "metadata": {},
     "output_type": "execute_result"
    }
   ],
   "source": [
    "X_train_df = pd.DataFrame(X_train_processed)\n",
    "X_train_df.head()"
   ]
  },
  {
   "cell_type": "code",
   "execution_count": 18,
   "metadata": {},
   "outputs": [
    {
     "name": "stdout",
     "output_type": "stream",
     "text": [
      "<class 'pandas.core.frame.DataFrame'>\n",
      "RangeIndex: 3132 entries, 0 to 3131\n",
      "Data columns (total 10 columns):\n",
      " #   Column  Non-Null Count  Dtype  \n",
      "---  ------  --------------  -----  \n",
      " 0   0       3132 non-null   float64\n",
      " 1   1       3132 non-null   float64\n",
      " 2   2       3132 non-null   float64\n",
      " 3   3       3132 non-null   float64\n",
      " 4   4       3132 non-null   float64\n",
      " 5   5       3132 non-null   float64\n",
      " 6   6       3132 non-null   float64\n",
      " 7   7       3132 non-null   float64\n",
      " 8   8       3132 non-null   float64\n",
      " 9   9       3132 non-null   float64\n",
      "dtypes: float64(10)\n",
      "memory usage: 244.8 KB\n"
     ]
    }
   ],
   "source": [
    "X_train_df.info()"
   ]
  },
  {
   "cell_type": "code",
   "execution_count": 22,
   "metadata": {},
   "outputs": [
    {
     "name": "stdout",
     "output_type": "stream",
     "text": [
      "<class 'pandas.core.frame.DataFrame'>\n",
      "RangeIndex: 4176 entries, 0 to 4175\n",
      "Data columns (total 9 columns):\n",
      " #   Column          Non-Null Count  Dtype  \n",
      "---  ------          --------------  -----  \n",
      " 0   Sex             4176 non-null   object \n",
      " 1   Lenght          4176 non-null   float64\n",
      " 2   Diameter        4176 non-null   float64\n",
      " 3   Height          4176 non-null   float64\n",
      " 4   Whole weight    4176 non-null   float64\n",
      " 5   Shucked weight  4176 non-null   float64\n",
      " 6   Viscera weight  4176 non-null   float64\n",
      " 7   Shell weight    4176 non-null   float64\n",
      " 8   Rings           4176 non-null   int64  \n",
      "dtypes: float64(7), int64(1), object(1)\n",
      "memory usage: 293.8+ KB\n"
     ]
    }
   ],
   "source": [
    "datos.info()"
   ]
  }
 ],
 "metadata": {
  "kernelspec": {
   "display_name": "Python 3.6.4 64-bit",
   "language": "python",
   "name": "python3"
  },
  "language_info": {
   "codemirror_mode": {
    "name": "ipython",
    "version": 3
   },
   "file_extension": ".py",
   "mimetype": "text/x-python",
   "name": "python",
   "nbconvert_exporter": "python",
   "pygments_lexer": "ipython3",
   "version": "3.6.4"
  },
  "orig_nbformat": 4,
  "vscode": {
   "interpreter": {
    "hash": "b397f95bef55022d8a920d3324b066227adbc996278ad6fc93c42bc0fb1b33bd"
   }
  }
 },
 "nbformat": 4,
 "nbformat_minor": 2
}
