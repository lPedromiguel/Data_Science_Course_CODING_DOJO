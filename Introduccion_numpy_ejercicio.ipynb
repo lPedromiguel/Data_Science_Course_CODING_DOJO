{
  "nbformat": 4,
  "nbformat_minor": 0,
  "metadata": {
    "colab": {
      "provenance": [],
      "collapsed_sections": []
    },
    "kernelspec": {
      "name": "python3",
      "display_name": "Python 3"
    },
    "language_info": {
      "name": "python"
    }
  },
  "cells": [
    {
      "cell_type": "code",
      "execution_count": null,
      "metadata": {
        "id": "E5pfBzGLUWSu"
      },
      "outputs": [],
      "source": []
    },
    {
      "cell_type": "markdown",
      "source": [
        "## unos jóvenes de un club de tecnología les pidió ayuda para analizar datos de su venta de pasteles.  Esperan reunir $200\n",
        "\n"
      ],
      "metadata": {
        "id": "rgXPkSvaUhe1"
      }
    },
    {
      "cell_type": "markdown",
      "source": [
        "El precio de venta de 3 artículos en la venta de pasteles es: $ 2 por un brownie, $ 1 por una galleta y $ 10 por un pastel. "
      ],
      "metadata": {
        "id": "-u8PeNPbVDuC"
      }
    },
    {
      "cell_type": "code",
      "source": [
        "price = [2,1,10]\n",
        "type(price)"
      ],
      "metadata": {
        "colab": {
          "base_uri": "https://localhost:8080/"
        },
        "id": "b6RFT_JvUnPC",
        "outputId": "596feb4b-4a6e-4fbc-ce23-b6940ce127ad"
      },
      "execution_count": 2,
      "outputs": [
        {
          "output_type": "execute_result",
          "data": {
            "text/plain": [
              "list"
            ]
          },
          "metadata": {},
          "execution_count": 2
        }
      ]
    },
    {
      "cell_type": "markdown",
      "source": [
        "El club vende 17 brownies, 40 galletas y un pastel. "
      ],
      "metadata": {
        "id": "lXtxtx87VyfO"
      }
    },
    {
      "cell_type": "code",
      "source": [
        "quantity_sold = [17,40,1]\n",
        "type(quantity_sold)\n"
      ],
      "metadata": {
        "colab": {
          "base_uri": "https://localhost:8080/"
        },
        "id": "BXMTZ3YhVwUy",
        "outputId": "717cf742-d2d1-4f3e-a944-e1a9ef265796"
      },
      "execution_count": 3,
      "outputs": [
        {
          "output_type": "execute_result",
          "data": {
            "text/plain": [
              "list"
            ]
          },
          "metadata": {},
          "execution_count": 3
        }
      ]
    },
    {
      "cell_type": "code",
      "source": [
        "import numpy as np\n"
      ],
      "metadata": {
        "id": "z_TubGeTWPiA"
      },
      "execution_count": 4,
      "outputs": []
    },
    {
      "cell_type": "code",
      "source": [
        "price_array = np.array(price)\n",
        "quantity_sold_array = np.array(quantity_sold)\n",
        "type(price_array)\n"
      ],
      "metadata": {
        "colab": {
          "base_uri": "https://localhost:8080/"
        },
        "id": "P6yFg72cWSYq",
        "outputId": "6bac5922-9eb8-4ebd-8764-4fb6f2f7e06b"
      },
      "execution_count": 5,
      "outputs": [
        {
          "output_type": "execute_result",
          "data": {
            "text/plain": [
              "numpy.ndarray"
            ]
          },
          "metadata": {},
          "execution_count": 5
        }
      ]
    },
    {
      "cell_type": "markdown",
      "source": [
        "encontrar el dinero recaudado para cada tipo de elemento.  Queremos el precio * cantidad para cada elemento. Tratemos de multiplicar nuestros arrays."
      ],
      "metadata": {
        "id": "NEkcpgz_Wf5w"
      }
    },
    {
      "cell_type": "code",
      "source": [
        "price_array * quantity_sold_array"
      ],
      "metadata": {
        "colab": {
          "base_uri": "https://localhost:8080/"
        },
        "id": "_LAaOuG6WfLm",
        "outputId": "bb968766-962a-4933-98c1-4c77ab69138c"
      },
      "execution_count": 6,
      "outputs": [
        {
          "output_type": "execute_result",
          "data": {
            "text/plain": [
              "array([34, 40, 10])"
            ]
          },
          "metadata": {},
          "execution_count": 6
        }
      ]
    },
    {
      "cell_type": "markdown",
      "source": [
        "costo de fabricación de cada uno de los artículos vendidos en la venta de pasteles.  Digamos que cuesta $0,25 para hacer un brownie, $0,50 una galleta y $5,00 un pastel."
      ],
      "metadata": {
        "id": "_fhhnsR_W4yi"
      }
    },
    {
      "cell_type": "code",
      "source": [
        "cost_array = np.array ([0.25,0.50,5])"
      ],
      "metadata": {
        "id": "oz_N_8VqXFLs"
      },
      "execution_count": 7,
      "outputs": []
    },
    {
      "cell_type": "code",
      "source": [
        "profit_array = price_array - cost_array\n",
        "print(profit_array)"
      ],
      "metadata": {
        "colab": {
          "base_uri": "https://localhost:8080/"
        },
        "id": "4nqYC0-RXiv9",
        "outputId": "fbad865b-f22a-4b1d-ce3a-cd1baaf58084"
      },
      "execution_count": 8,
      "outputs": [
        {
          "output_type": "stream",
          "name": "stdout",
          "text": [
            "[1.75 0.5  5.  ]\n"
          ]
        }
      ]
    },
    {
      "cell_type": "markdown",
      "source": [
        "qué elementos obtuvieron un beneficio superior a $2 por elemento. "
      ],
      "metadata": {
        "id": "HCLQ-nlbX5Vq"
      }
    },
    {
      "cell_type": "code",
      "source": [
        "profit_array > 2"
      ],
      "metadata": {
        "colab": {
          "base_uri": "https://localhost:8080/"
        },
        "id": "MIxNU422YJ99",
        "outputId": "df6dbfd4-1889-40b4-a697-63c1c50af4f4"
      },
      "execution_count": 9,
      "outputs": [
        {
          "output_type": "execute_result",
          "data": {
            "text/plain": [
              "array([False, False,  True])"
            ]
          },
          "metadata": {},
          "execution_count": 9
        }
      ]
    },
    {
      "cell_type": "markdown",
      "source": [
        "El club también vende tartas por $7"
      ],
      "metadata": {
        "id": "BEpNIWxVYQJz"
      }
    },
    {
      "cell_type": "code",
      "source": [
        "price_array = np.append(price_array,7)\n",
        "print(price_array)"
      ],
      "metadata": {
        "colab": {
          "base_uri": "https://localhost:8080/"
        },
        "id": "69TmLmw0YSVI",
        "outputId": "a86e10fe-d889-4ee7-a040-b6d5a5aacbea"
      },
      "execution_count": 10,
      "outputs": [
        {
          "output_type": "stream",
          "name": "stdout",
          "text": [
            "[ 2  1 10  7]\n"
          ]
        }
      ]
    },
    {
      "cell_type": "markdown",
      "source": [
        "el club quiere agregar los siguientes precios: $4,50 por dulces, $3 por una magdalena, $4 por una barra de pan de plátano y $9 por una torta."
      ],
      "metadata": {
        "id": "f5-vRffCYy7p"
      }
    },
    {
      "cell_type": "code",
      "source": [
        "price_array = np.append(price_array, [4.50, 3, 4, 9])\n",
        "print(price_array)\n",
        "\n"
      ],
      "metadata": {
        "colab": {
          "base_uri": "https://localhost:8080/"
        },
        "id": "4ZFU92QQYz9i",
        "outputId": "b51ed7ed-81e4-4250-97e8-1e0dc10dca15"
      },
      "execution_count": 11,
      "outputs": [
        {
          "output_type": "stream",
          "name": "stdout",
          "text": [
            "[ 2.   1.  10.   7.   4.5  3.   4.   9. ]\n"
          ]
        }
      ]
    },
    {
      "cell_type": "markdown",
      "source": [
        "comprobar el tipo de datos de los elementos del array"
      ],
      "metadata": {
        "id": "XpuIxPgYZDf2"
      }
    },
    {
      "cell_type": "code",
      "source": [
        "print(price_array.dtype)\n"
      ],
      "metadata": {
        "colab": {
          "base_uri": "https://localhost:8080/"
        },
        "id": "OzJB6BaBZCuQ",
        "outputId": "42129070-117e-45a2-9a8f-e31b2774fc83"
      },
      "execution_count": 12,
      "outputs": [
        {
          "output_type": "stream",
          "name": "stdout",
          "text": [
            "float64\n"
          ]
        }
      ]
    },
    {
      "cell_type": "markdown",
      "source": [
        "Resulta que nadie planea hacer una torta, así que quieren eliminar el precio de ese elemento del array."
      ],
      "metadata": {
        "id": "wF8SAf8MZKYe"
      }
    },
    {
      "cell_type": "code",
      "source": [
        "price_array= np.delete(price_array, 7)\n",
        "print(price_array)"
      ],
      "metadata": {
        "colab": {
          "base_uri": "https://localhost:8080/"
        },
        "id": "_Dj4Pcp9ZPbq",
        "outputId": "941aab43-01b5-4010-ae71-d93960f45160"
      },
      "execution_count": 13,
      "outputs": [
        {
          "output_type": "stream",
          "name": "stdout",
          "text": [
            "[ 2.   1.  10.   7.   4.5  3.   4. ]\n"
          ]
        }
      ]
    },
    {
      "cell_type": "markdown",
      "source": [
        "Después el club decide subir el precio de los pasteles de $ 10 a $12.  Nuevamente, tendremos que identificar el elemento usando el índice.  Los pasteles están en el índice 2"
      ],
      "metadata": {
        "id": "cxLy8l2ZZmmE"
      }
    },
    {
      "cell_type": "code",
      "source": [
        "price_array[2] = 12\n",
        "print(price_array)"
      ],
      "metadata": {
        "colab": {
          "base_uri": "https://localhost:8080/"
        },
        "id": "dRTpKPH-ZthH",
        "outputId": "3b7265be-7446-4a6f-e676-4776dc8ffcde"
      },
      "execution_count": 14,
      "outputs": [
        {
          "output_type": "stream",
          "name": "stdout",
          "text": [
            "[ 2.   1.  12.   7.   4.5  3.   4. ]\n"
          ]
        }
      ]
    },
    {
      "cell_type": "markdown",
      "source": [
        " Actualicen el quantity_sold_array para incluir la venta de 2 tartas, 3 bandejas de dulces, 16 magdalenas y 5 panes de plátano.  También se darán cuenta que una de las galletas que pensaron que se había vendido en realidad se cayó al suelo, así que editen quantity_sold_array de 40 a 39.  "
      ],
      "metadata": {
        "id": "ZrVXId4WZ87q"
      }
    },
    {
      "cell_type": "markdown",
      "source": [
        "Brownie, galleta, pastel,  tartas, dulces,magdalenas, pan de platano."
      ],
      "metadata": {
        "id": "CP47mjkkaq7b"
      }
    },
    {
      "cell_type": "code",
      "source": [
        "quantity_sold_array = np.append(quantity_sold_array, [3,2,16,5])\n",
        "print(quantity_sold_array)"
      ],
      "metadata": {
        "colab": {
          "base_uri": "https://localhost:8080/"
        },
        "id": "Bj3dEsDdaDqK",
        "outputId": "e04c6f2d-69f3-4ef7-cb28-58c325269cdd"
      },
      "execution_count": 15,
      "outputs": [
        {
          "output_type": "stream",
          "name": "stdout",
          "text": [
            "[17 40  1  3  2 16  5]\n"
          ]
        }
      ]
    },
    {
      "cell_type": "code",
      "source": [
        "quantity_sold_array [1] = 39\n",
        "print(quantity_sold_array)"
      ],
      "metadata": {
        "colab": {
          "base_uri": "https://localhost:8080/"
        },
        "id": "kQ4whvhxb1Bq",
        "outputId": "8a84c277-0c6f-489c-cf97-3c62f2648f05"
      },
      "execution_count": 16,
      "outputs": [
        {
          "output_type": "stream",
          "name": "stdout",
          "text": [
            "[17 39  1  3  2 16  5]\n"
          ]
        }
      ]
    },
    {
      "cell_type": "markdown",
      "source": [
        "correcion de orden."
      ],
      "metadata": {
        "id": "ETIr9rj9q3HC"
      }
    },
    {
      "cell_type": "code",
      "source": [
        "quantity_sold_array [3] = 2\n",
        "print(quantity_sold_array)"
      ],
      "metadata": {
        "colab": {
          "base_uri": "https://localhost:8080/"
        },
        "id": "wr8LSr_ErgmC",
        "outputId": "45a88201-47c5-45d8-acc8-f7f573bb1979"
      },
      "execution_count": 17,
      "outputs": [
        {
          "output_type": "stream",
          "name": "stdout",
          "text": [
            "[17 39  1  2  2 16  5]\n"
          ]
        }
      ]
    },
    {
      "cell_type": "code",
      "source": [
        "quantity_sold_array [4] = 3\n",
        "print(quantity_sold_array)"
      ],
      "metadata": {
        "colab": {
          "base_uri": "https://localhost:8080/"
        },
        "id": "jhl-zjNRr12a",
        "outputId": "23cbc1ab-1d68-467b-ab05-e1ea4fcaefe6"
      },
      "execution_count": 18,
      "outputs": [
        {
          "output_type": "stream",
          "name": "stdout",
          "text": [
            "[17 39  1  2  3 16  5]\n"
          ]
        }
      ]
    },
    {
      "cell_type": "markdown",
      "source": [
        "Determinen la cantidad de dinero recaudado de la venta de cada elemento en la venta de la panadería. "
      ],
      "metadata": {
        "id": "ZuJnZsX_bjbC"
      }
    },
    {
      "cell_type": "code",
      "source": [
        "normal_sales_income_array = price_array * quantity_sold_array\n",
        "print(normal_sales_income_array)"
      ],
      "metadata": {
        "colab": {
          "base_uri": "https://localhost:8080/"
        },
        "id": "gfDIaBJBbk6x",
        "outputId": "156589a9-0c16-4d93-e68b-67e290911a6e"
      },
      "execution_count": 19,
      "outputs": [
        {
          "output_type": "stream",
          "name": "stdout",
          "text": [
            "[34.  39.  12.  14.  13.5 48.  20. ]\n"
          ]
        }
      ]
    },
    {
      "cell_type": "markdown",
      "source": [
        "Creen un array de NumPy \"quantity_leftover\" que incluya la cantidad de cada elemento restante al final de la venta: 2 pasteles, 1 tarta, 6 bandejas de dulces, 2 panes de plátano.  Pista: Asegúrense de incluir “0” de cada elemento que se haya vendido. ¿Por qué esto es importante cuando se crea un array?"
      ],
      "metadata": {
        "id": "i-5Z7izRcNDL"
      }
    },
    {
      "cell_type": "markdown",
      "source": [
        "por que cada elemento esta anexado a un indice. "
      ],
      "metadata": {
        "id": "kJjVwVx1cUpy"
      }
    },
    {
      "cell_type": "code",
      "source": [
        "quantity_leftover_array = np.array ([0,0,2,1,6,0,2])"
      ],
      "metadata": {
        "id": "ZeP4DJA4cMtb"
      },
      "execution_count": 20,
      "outputs": []
    },
    {
      "cell_type": "markdown",
      "source": [
        "El club decide vender los elementos restantes a mitad de precio, y todo se venda rápidamente.  Determinen cuanto dinero se recaudó de la venta de liquidación.  "
      ],
      "metadata": {
        "id": "5P7eGq2WdhFz"
      }
    },
    {
      "cell_type": "code",
      "source": [
        "print(price_array)\n",
        "discount_price=np.array(price_array)/2\n",
        "print((discount_price))"
      ],
      "metadata": {
        "colab": {
          "base_uri": "https://localhost:8080/"
        },
        "id": "dq6dfMUydz3a",
        "outputId": "7c3ee455-ce56-4c36-c945-68c68800f318"
      },
      "execution_count": 21,
      "outputs": [
        {
          "output_type": "stream",
          "name": "stdout",
          "text": [
            "[ 2.   1.  12.   7.   4.5  3.   4. ]\n",
            "[1.   0.5  6.   3.5  2.25 1.5  2.  ]\n"
          ]
        }
      ]
    },
    {
      "cell_type": "code",
      "source": [
        "leftover_income = discount_price * quantity_leftover_array\n",
        "print(leftover_income)"
      ],
      "metadata": {
        "colab": {
          "base_uri": "https://localhost:8080/"
        },
        "id": "ETY36V8Whsky",
        "outputId": "548b9e4a-3c31-42b3-e08f-886b150cd95c"
      },
      "execution_count": 22,
      "outputs": [
        {
          "output_type": "stream",
          "name": "stdout",
          "text": [
            "[ 0.   0.  12.   3.5 13.5  0.   4. ]\n"
          ]
        }
      ]
    },
    {
      "cell_type": "markdown",
      "source": [
        "¿Cuánto dinero total se recaudó de la venta de panadería (incluido la venta del precio total y los elementos liquidados)?\n",
        "\n"
      ],
      "metadata": {
        "id": "jtnWjepohpfC"
      }
    },
    {
      "cell_type": "code",
      "source": [
        "Total = leftover_income + normal_sales_income_array\n",
        "print(Total)"
      ],
      "metadata": {
        "colab": {
          "base_uri": "https://localhost:8080/"
        },
        "id": "dUW8izDxhq8z",
        "outputId": "9b4291f1-e9d6-4313-e2c3-c946fc243f32"
      },
      "execution_count": 23,
      "outputs": [
        {
          "output_type": "stream",
          "name": "stdout",
          "text": [
            "[34.  39.  24.  17.5 27.  48.  24. ]\n"
          ]
        }
      ]
    },
    {
      "cell_type": "code",
      "source": [
        "sum(Total)"
      ],
      "metadata": {
        "colab": {
          "base_uri": "https://localhost:8080/"
        },
        "id": "wH5wUTmwizdu",
        "outputId": "dbe8a431-5015-4299-d560-b7cb52daef71"
      },
      "execution_count": 24,
      "outputs": [
        {
          "output_type": "execute_result",
          "data": {
            "text/plain": [
              "213.5"
            ]
          },
          "metadata": {},
          "execution_count": 24
        }
      ]
    }
  ]
}