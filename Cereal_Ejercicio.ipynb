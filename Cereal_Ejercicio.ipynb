{
 "cells": [
  {
   "cell_type": "code",
   "execution_count": 1,
   "metadata": {},
   "outputs": [],
   "source": [
    "import pandas as pd\n",
    "import numpy as np\n",
    "from sklearn.preprocessing import StandardScaler, OneHotEncoder\n",
    "from sklearn.impute import SimpleImputer\n",
    "from sklearn.compose import make_column_transformer, make_column_selector\n",
    "from sklearn.pipeline import make_pipeline\n",
    "from sklearn.model_selection import train_test_split\n",
    "from sklearn import set_config\n",
    "set_config(display='diagram')"
   ]
  },
  {
   "cell_type": "code",
   "execution_count": 4,
   "metadata": {},
   "outputs": [],
   "source": [
    "df = pd.read_csv(r'C:\\Users\\pedro\\Desktop\\Data Science\\Machine Learning\\Intro to ML\\Cereal with missing values.xlsx - Sheet 1 - cereal.csv')"
   ]
  },
  {
   "cell_type": "code",
   "execution_count": 5,
   "metadata": {},
   "outputs": [
    {
     "name": "stdout",
     "output_type": "stream",
     "text": [
      "<class 'pandas.core.frame.DataFrame'>\n",
      "RangeIndex: 77 entries, 0 to 76\n",
      "Data columns (total 16 columns):\n",
      " #   Column                                           Non-Null Count  Dtype  \n",
      "---  ------                                           --------------  -----  \n",
      " 0   name                                             77 non-null     object \n",
      " 1   Manufacturer                                     77 non-null     object \n",
      " 2   type                                             68 non-null     object \n",
      " 3   calories per serving                             70 non-null     float64\n",
      " 4   grams of protein                                 77 non-null     int64  \n",
      " 5   grams of fat                                     69 non-null     float64\n",
      " 6   milligrams of sodium                             76 non-null     float64\n",
      " 7   grams of dietary fiber                           77 non-null     float64\n",
      " 8   grams of complex carbohydrates                   77 non-null     float64\n",
      " 9   grams of sugars                                  68 non-null     float64\n",
      " 10  milligrams of potassium                          77 non-null     int64  \n",
      " 11  vitamins and minerals (% of FDA recommendation)  76 non-null     float64\n",
      " 12  Display shelf                                    77 non-null     int64  \n",
      " 13  Weight in ounces per one serving                 77 non-null     float64\n",
      " 14  Number of cups in one serving                    77 non-null     float64\n",
      " 15  Rating of cereal                                 77 non-null     float64\n",
      "dtypes: float64(10), int64(3), object(3)\n",
      "memory usage: 9.8+ KB\n"
     ]
    }
   ],
   "source": [
    "df.info()\n"
   ]
  },
  {
   "cell_type": "code",
   "execution_count": 9,
   "metadata": {},
   "outputs": [
    {
     "data": {
      "text/html": [
       "<div>\n",
       "<style scoped>\n",
       "    .dataframe tbody tr th:only-of-type {\n",
       "        vertical-align: middle;\n",
       "    }\n",
       "\n",
       "    .dataframe tbody tr th {\n",
       "        vertical-align: top;\n",
       "    }\n",
       "\n",
       "    .dataframe thead th {\n",
       "        text-align: right;\n",
       "    }\n",
       "</style>\n",
       "<table border=\"1\" class=\"dataframe\">\n",
       "  <thead>\n",
       "    <tr style=\"text-align: right;\">\n",
       "      <th></th>\n",
       "      <th>name</th>\n",
       "      <th>Manufacturer</th>\n",
       "      <th>type</th>\n",
       "      <th>calories per serving</th>\n",
       "      <th>grams of protein</th>\n",
       "      <th>grams of fat</th>\n",
       "      <th>milligrams of sodium</th>\n",
       "      <th>grams of dietary fiber</th>\n",
       "      <th>grams of complex carbohydrates</th>\n",
       "      <th>grams of sugars</th>\n",
       "      <th>milligrams of potassium</th>\n",
       "      <th>vitamins and minerals (% of FDA recommendation)</th>\n",
       "      <th>Display shelf</th>\n",
       "      <th>Weight in ounces per one serving</th>\n",
       "      <th>Number of cups in one serving</th>\n",
       "      <th>Rating of cereal</th>\n",
       "    </tr>\n",
       "  </thead>\n",
       "  <tbody>\n",
       "    <tr>\n",
       "      <th>0</th>\n",
       "      <td>Apple Cinnamon Cheerios</td>\n",
       "      <td>General Mills</td>\n",
       "      <td>Cold</td>\n",
       "      <td>110.0</td>\n",
       "      <td>2</td>\n",
       "      <td>2.0</td>\n",
       "      <td>180.0</td>\n",
       "      <td>1.5</td>\n",
       "      <td>10.5</td>\n",
       "      <td>10.0</td>\n",
       "      <td>70</td>\n",
       "      <td>25.0</td>\n",
       "      <td>1</td>\n",
       "      <td>1.00</td>\n",
       "      <td>0.75</td>\n",
       "      <td>29.509541</td>\n",
       "    </tr>\n",
       "    <tr>\n",
       "      <th>1</th>\n",
       "      <td>Basic 4</td>\n",
       "      <td>General Mills</td>\n",
       "      <td>Cold</td>\n",
       "      <td>130.0</td>\n",
       "      <td>3</td>\n",
       "      <td>2.0</td>\n",
       "      <td>NaN</td>\n",
       "      <td>2.0</td>\n",
       "      <td>18.0</td>\n",
       "      <td>NaN</td>\n",
       "      <td>100</td>\n",
       "      <td>25.0</td>\n",
       "      <td>3</td>\n",
       "      <td>1.33</td>\n",
       "      <td>0.75</td>\n",
       "      <td>37.038562</td>\n",
       "    </tr>\n",
       "    <tr>\n",
       "      <th>2</th>\n",
       "      <td>Cheerios</td>\n",
       "      <td>General Mills</td>\n",
       "      <td>Cold</td>\n",
       "      <td>NaN</td>\n",
       "      <td>6</td>\n",
       "      <td>2.0</td>\n",
       "      <td>290.0</td>\n",
       "      <td>2.0</td>\n",
       "      <td>17.0</td>\n",
       "      <td>1.0</td>\n",
       "      <td>105</td>\n",
       "      <td>25.0</td>\n",
       "      <td>1</td>\n",
       "      <td>1.00</td>\n",
       "      <td>1.25</td>\n",
       "      <td>50.764999</td>\n",
       "    </tr>\n",
       "    <tr>\n",
       "      <th>3</th>\n",
       "      <td>Cinnamon Toast Crunch</td>\n",
       "      <td>General Mills</td>\n",
       "      <td>Cold</td>\n",
       "      <td>120.0</td>\n",
       "      <td>1</td>\n",
       "      <td>3.0</td>\n",
       "      <td>210.0</td>\n",
       "      <td>0.0</td>\n",
       "      <td>13.0</td>\n",
       "      <td>9.0</td>\n",
       "      <td>45</td>\n",
       "      <td>25.0</td>\n",
       "      <td>2</td>\n",
       "      <td>1.00</td>\n",
       "      <td>0.75</td>\n",
       "      <td>19.823573</td>\n",
       "    </tr>\n",
       "    <tr>\n",
       "      <th>4</th>\n",
       "      <td>Clusters</td>\n",
       "      <td>General Mills</td>\n",
       "      <td>Cold</td>\n",
       "      <td>110.0</td>\n",
       "      <td>3</td>\n",
       "      <td>2.0</td>\n",
       "      <td>140.0</td>\n",
       "      <td>2.0</td>\n",
       "      <td>13.0</td>\n",
       "      <td>7.0</td>\n",
       "      <td>105</td>\n",
       "      <td>25.0</td>\n",
       "      <td>3</td>\n",
       "      <td>1.00</td>\n",
       "      <td>0.50</td>\n",
       "      <td>40.400208</td>\n",
       "    </tr>\n",
       "    <tr>\n",
       "      <th>...</th>\n",
       "      <td>...</td>\n",
       "      <td>...</td>\n",
       "      <td>...</td>\n",
       "      <td>...</td>\n",
       "      <td>...</td>\n",
       "      <td>...</td>\n",
       "      <td>...</td>\n",
       "      <td>...</td>\n",
       "      <td>...</td>\n",
       "      <td>...</td>\n",
       "      <td>...</td>\n",
       "      <td>...</td>\n",
       "      <td>...</td>\n",
       "      <td>...</td>\n",
       "      <td>...</td>\n",
       "      <td>...</td>\n",
       "    </tr>\n",
       "    <tr>\n",
       "      <th>72</th>\n",
       "      <td>Rice Chex</td>\n",
       "      <td>Ralston Purina</td>\n",
       "      <td>Cold</td>\n",
       "      <td>110.0</td>\n",
       "      <td>1</td>\n",
       "      <td>NaN</td>\n",
       "      <td>240.0</td>\n",
       "      <td>0.0</td>\n",
       "      <td>23.0</td>\n",
       "      <td>2.0</td>\n",
       "      <td>30</td>\n",
       "      <td>25.0</td>\n",
       "      <td>1</td>\n",
       "      <td>1.00</td>\n",
       "      <td>1.13</td>\n",
       "      <td>41.998933</td>\n",
       "    </tr>\n",
       "    <tr>\n",
       "      <th>73</th>\n",
       "      <td>Wheat Chex</td>\n",
       "      <td>Ralston Purina</td>\n",
       "      <td>Cold</td>\n",
       "      <td>100.0</td>\n",
       "      <td>3</td>\n",
       "      <td>1.0</td>\n",
       "      <td>230.0</td>\n",
       "      <td>3.0</td>\n",
       "      <td>17.0</td>\n",
       "      <td>3.0</td>\n",
       "      <td>115</td>\n",
       "      <td>25.0</td>\n",
       "      <td>1</td>\n",
       "      <td>1.00</td>\n",
       "      <td>0.67</td>\n",
       "      <td>49.787445</td>\n",
       "    </tr>\n",
       "    <tr>\n",
       "      <th>74</th>\n",
       "      <td>Maypo</td>\n",
       "      <td>American Home Food Products</td>\n",
       "      <td>Hot</td>\n",
       "      <td>100.0</td>\n",
       "      <td>4</td>\n",
       "      <td>1.0</td>\n",
       "      <td>0.0</td>\n",
       "      <td>0.0</td>\n",
       "      <td>16.0</td>\n",
       "      <td>NaN</td>\n",
       "      <td>95</td>\n",
       "      <td>25.0</td>\n",
       "      <td>2</td>\n",
       "      <td>1.00</td>\n",
       "      <td>1.00</td>\n",
       "      <td>54.850917</td>\n",
       "    </tr>\n",
       "    <tr>\n",
       "      <th>75</th>\n",
       "      <td>Cream of Wheat (Quick)</td>\n",
       "      <td>Nabisco</td>\n",
       "      <td>Hot</td>\n",
       "      <td>100.0</td>\n",
       "      <td>3</td>\n",
       "      <td>0.0</td>\n",
       "      <td>80.0</td>\n",
       "      <td>1.0</td>\n",
       "      <td>21.0</td>\n",
       "      <td>0.0</td>\n",
       "      <td>-1</td>\n",
       "      <td>0.0</td>\n",
       "      <td>2</td>\n",
       "      <td>1.00</td>\n",
       "      <td>1.00</td>\n",
       "      <td>64.533816</td>\n",
       "    </tr>\n",
       "    <tr>\n",
       "      <th>76</th>\n",
       "      <td>Quaker Oatmeal</td>\n",
       "      <td>Quaker Oats</td>\n",
       "      <td>Hot</td>\n",
       "      <td>100.0</td>\n",
       "      <td>5</td>\n",
       "      <td>2.0</td>\n",
       "      <td>0.0</td>\n",
       "      <td>2.7</td>\n",
       "      <td>-1.0</td>\n",
       "      <td>-1.0</td>\n",
       "      <td>110</td>\n",
       "      <td>0.0</td>\n",
       "      <td>1</td>\n",
       "      <td>1.00</td>\n",
       "      <td>0.67</td>\n",
       "      <td>50.828392</td>\n",
       "    </tr>\n",
       "  </tbody>\n",
       "</table>\n",
       "<p>77 rows × 16 columns</p>\n",
       "</div>"
      ],
      "text/plain": [
       "                       name                 Manufacturer  type  \\\n",
       "0   Apple Cinnamon Cheerios                General Mills  Cold   \n",
       "1                   Basic 4                General Mills  Cold   \n",
       "2                  Cheerios                General Mills  Cold   \n",
       "3     Cinnamon Toast Crunch                General Mills  Cold   \n",
       "4                  Clusters                General Mills  Cold   \n",
       "..                      ...                          ...   ...   \n",
       "72                Rice Chex               Ralston Purina  Cold   \n",
       "73               Wheat Chex               Ralston Purina  Cold   \n",
       "74                    Maypo  American Home Food Products   Hot   \n",
       "75   Cream of Wheat (Quick)                      Nabisco   Hot   \n",
       "76           Quaker Oatmeal                  Quaker Oats   Hot   \n",
       "\n",
       "    calories per serving  grams of protein  grams of fat  \\\n",
       "0                  110.0                 2           2.0   \n",
       "1                  130.0                 3           2.0   \n",
       "2                    NaN                 6           2.0   \n",
       "3                  120.0                 1           3.0   \n",
       "4                  110.0                 3           2.0   \n",
       "..                   ...               ...           ...   \n",
       "72                 110.0                 1           NaN   \n",
       "73                 100.0                 3           1.0   \n",
       "74                 100.0                 4           1.0   \n",
       "75                 100.0                 3           0.0   \n",
       "76                 100.0                 5           2.0   \n",
       "\n",
       "    milligrams of sodium  grams of dietary fiber  \\\n",
       "0                  180.0                     1.5   \n",
       "1                    NaN                     2.0   \n",
       "2                  290.0                     2.0   \n",
       "3                  210.0                     0.0   \n",
       "4                  140.0                     2.0   \n",
       "..                   ...                     ...   \n",
       "72                 240.0                     0.0   \n",
       "73                 230.0                     3.0   \n",
       "74                   0.0                     0.0   \n",
       "75                  80.0                     1.0   \n",
       "76                   0.0                     2.7   \n",
       "\n",
       "    grams of complex carbohydrates  grams of sugars  milligrams of potassium  \\\n",
       "0                             10.5             10.0                       70   \n",
       "1                             18.0              NaN                      100   \n",
       "2                             17.0              1.0                      105   \n",
       "3                             13.0              9.0                       45   \n",
       "4                             13.0              7.0                      105   \n",
       "..                             ...              ...                      ...   \n",
       "72                            23.0              2.0                       30   \n",
       "73                            17.0              3.0                      115   \n",
       "74                            16.0              NaN                       95   \n",
       "75                            21.0              0.0                       -1   \n",
       "76                            -1.0             -1.0                      110   \n",
       "\n",
       "    vitamins and minerals (% of FDA recommendation)  Display shelf  \\\n",
       "0                                              25.0              1   \n",
       "1                                              25.0              3   \n",
       "2                                              25.0              1   \n",
       "3                                              25.0              2   \n",
       "4                                              25.0              3   \n",
       "..                                              ...            ...   \n",
       "72                                             25.0              1   \n",
       "73                                             25.0              1   \n",
       "74                                             25.0              2   \n",
       "75                                              0.0              2   \n",
       "76                                              0.0              1   \n",
       "\n",
       "    Weight in ounces per one serving  Number of cups in one serving  \\\n",
       "0                               1.00                           0.75   \n",
       "1                               1.33                           0.75   \n",
       "2                               1.00                           1.25   \n",
       "3                               1.00                           0.75   \n",
       "4                               1.00                           0.50   \n",
       "..                               ...                            ...   \n",
       "72                              1.00                           1.13   \n",
       "73                              1.00                           0.67   \n",
       "74                              1.00                           1.00   \n",
       "75                              1.00                           1.00   \n",
       "76                              1.00                           0.67   \n",
       "\n",
       "    Rating of cereal  \n",
       "0          29.509541  \n",
       "1          37.038562  \n",
       "2          50.764999  \n",
       "3          19.823573  \n",
       "4          40.400208  \n",
       "..               ...  \n",
       "72         41.998933  \n",
       "73         49.787445  \n",
       "74         54.850917  \n",
       "75         64.533816  \n",
       "76         50.828392  \n",
       "\n",
       "[77 rows x 16 columns]"
      ]
     },
     "execution_count": 9,
     "metadata": {},
     "output_type": "execute_result"
    }
   ],
   "source": [
    "df"
   ]
  },
  {
   "attachments": {},
   "cell_type": "markdown",
   "metadata": {},
   "source": [
    "Identificar cada característica como numérica, ordinal o nominal. (Entreguen esta pregunta en una celda de texto en un cuaderno de Colab)."
   ]
  },
  {
   "attachments": {},
   "cell_type": "markdown",
   "metadata": {},
   "source": [
    "  &emsp; 0.   name                                         |     object         |    Nominal\n",
    "  &emsp;1.   Manufacturer                                  |   object           |  Nominal\n",
    "  &emsp;2.   type                                          |    object          |   Ordinal\n",
    "  &emsp;3.   calories per serving                          |    float64         |   Numerica\n",
    "  &emsp;4.   grams of protein                              |    int64           |   Numerica\n",
    "  &emsp;5.   grams of fat                                  |    float64         |   Numerica\n",
    "  &emsp;6.   milligrams of sodium                          |    float64         |   Numerica\n",
    "  &emsp;7.   grams of dietary fiber                        |    float64         |   Numerica\n",
    "  &emsp;8.  grams of complex carbohydrates                |    float64         |   Numerica\n",
    "  &emsp;9.   grams of sugars                              |    float64         |   Numerica\n",
    "  &emsp;10.  milligrams of potassium                       |     int64          |   Numerica\n",
    "  &emsp;11.  vitamins and minerals (% of FDA recommendation)|   float64        |    Numerica\n",
    "  &emsp;12.  Display shelf                                 |    int64           |   Numerica\n",
    "  &emsp;13.  Weight in ounces per one serving              |    float64         |   Numerica\n",
    "  &emsp;14.  Number of cups in one serving                 |    float64         |   Numerica\n",
    "  &emsp;15.  Rating of cereal                              |    float64         |   Numerica"
   ]
  },
  {
   "cell_type": "code",
   "execution_count": 10,
   "metadata": {},
   "outputs": [
    {
     "data": {
      "text/plain": [
       "Cold    65\n",
       "Hot      3\n",
       "Name: type, dtype: int64"
      ]
     },
     "execution_count": 10,
     "metadata": {},
     "output_type": "execute_result"
    }
   ],
   "source": [
    "df['type'].value_counts()"
   ]
  },
  {
   "cell_type": "code",
   "execution_count": 11,
   "metadata": {},
   "outputs": [
    {
     "data": {
      "text/plain": [
       "0     1.0\n",
       "1     1.0\n",
       "2     1.0\n",
       "3     1.0\n",
       "4     1.0\n",
       "     ... \n",
       "72    1.0\n",
       "73    1.0\n",
       "74    2.0\n",
       "75    2.0\n",
       "76    2.0\n",
       "Name: type, Length: 77, dtype: float64"
      ]
     },
     "execution_count": 11,
     "metadata": {},
     "output_type": "execute_result"
    }
   ],
   "source": [
    "replacement_dictionary = {'Cold':1, 'Hot':2}\n",
    "df['type'].replace(replacement_dictionary, inplace=True)\n",
    "df['type']"
   ]
  },
  {
   "cell_type": "code",
   "execution_count": 12,
   "metadata": {},
   "outputs": [],
   "source": [
    "X = df.drop('calories per serving', axis=1)\n",
    "y = df['calories per serving']\n",
    "X_train, X_test, y_train, y_test = train_test_split(X, y, random_state=42)"
   ]
  },
  {
   "cell_type": "code",
   "execution_count": 13,
   "metadata": {},
   "outputs": [],
   "source": [
    "# Selectors\n",
    "cat_selector = make_column_selector(dtype_include='object')\n",
    "num_selector = make_column_selector(dtype_include='number')"
   ]
  },
  {
   "cell_type": "code",
   "execution_count": 14,
   "metadata": {},
   "outputs": [],
   "source": [
    "# Imputers\n",
    "freq_imputer = SimpleImputer(strategy='most_frequent')\n",
    "mean_imputer = SimpleImputer(strategy='mean')\n",
    "# Scaler\n",
    "scaler = StandardScaler()\n",
    "# One-hot encoder\n",
    "ohe = OneHotEncoder(handle_unknown='ignore', sparse=False)"
   ]
  },
  {
   "cell_type": "code",
   "execution_count": 15,
   "metadata": {},
   "outputs": [
    {
     "data": {
      "text/html": [
       "<style>#sk-544bdde1-2430-43aa-81ab-c2aaed1eebae {color: black;background-color: white;}#sk-544bdde1-2430-43aa-81ab-c2aaed1eebae pre{padding: 0;}#sk-544bdde1-2430-43aa-81ab-c2aaed1eebae div.sk-toggleable {background-color: white;}#sk-544bdde1-2430-43aa-81ab-c2aaed1eebae label.sk-toggleable__label {cursor: pointer;display: block;width: 100%;margin-bottom: 0;padding: 0.2em 0.3em;box-sizing: border-box;text-align: center;}#sk-544bdde1-2430-43aa-81ab-c2aaed1eebae div.sk-toggleable__content {max-height: 0;max-width: 0;overflow: hidden;text-align: left;background-color: #f0f8ff;}#sk-544bdde1-2430-43aa-81ab-c2aaed1eebae div.sk-toggleable__content pre {margin: 0.2em;color: black;border-radius: 0.25em;background-color: #f0f8ff;}#sk-544bdde1-2430-43aa-81ab-c2aaed1eebae input.sk-toggleable__control:checked~div.sk-toggleable__content {max-height: 200px;max-width: 100%;overflow: auto;}#sk-544bdde1-2430-43aa-81ab-c2aaed1eebae div.sk-estimator input.sk-toggleable__control:checked~label.sk-toggleable__label {background-color: #d4ebff;}#sk-544bdde1-2430-43aa-81ab-c2aaed1eebae div.sk-label input.sk-toggleable__control:checked~label.sk-toggleable__label {background-color: #d4ebff;}#sk-544bdde1-2430-43aa-81ab-c2aaed1eebae input.sk-hidden--visually {border: 0;clip: rect(1px 1px 1px 1px);clip: rect(1px, 1px, 1px, 1px);height: 1px;margin: -1px;overflow: hidden;padding: 0;position: absolute;width: 1px;}#sk-544bdde1-2430-43aa-81ab-c2aaed1eebae div.sk-estimator {font-family: monospace;background-color: #f0f8ff;margin: 0.25em 0.25em;border: 1px dotted black;border-radius: 0.25em;box-sizing: border-box;}#sk-544bdde1-2430-43aa-81ab-c2aaed1eebae div.sk-estimator:hover {background-color: #d4ebff;}#sk-544bdde1-2430-43aa-81ab-c2aaed1eebae div.sk-parallel-item::after {content: \"\";width: 100%;border-bottom: 1px solid gray;flex-grow: 1;}#sk-544bdde1-2430-43aa-81ab-c2aaed1eebae div.sk-label:hover label.sk-toggleable__label {background-color: #d4ebff;}#sk-544bdde1-2430-43aa-81ab-c2aaed1eebae div.sk-serial::before {content: \"\";position: absolute;border-left: 1px solid gray;box-sizing: border-box;top: 2em;bottom: 0;left: 50%;}#sk-544bdde1-2430-43aa-81ab-c2aaed1eebae div.sk-serial {display: flex;flex-direction: column;align-items: center;background-color: white;}#sk-544bdde1-2430-43aa-81ab-c2aaed1eebae div.sk-item {z-index: 1;}#sk-544bdde1-2430-43aa-81ab-c2aaed1eebae div.sk-parallel {display: flex;align-items: stretch;justify-content: center;background-color: white;}#sk-544bdde1-2430-43aa-81ab-c2aaed1eebae div.sk-parallel-item {display: flex;flex-direction: column;position: relative;background-color: white;}#sk-544bdde1-2430-43aa-81ab-c2aaed1eebae div.sk-parallel-item:first-child::after {align-self: flex-end;width: 50%;}#sk-544bdde1-2430-43aa-81ab-c2aaed1eebae div.sk-parallel-item:last-child::after {align-self: flex-start;width: 50%;}#sk-544bdde1-2430-43aa-81ab-c2aaed1eebae div.sk-parallel-item:only-child::after {width: 0;}#sk-544bdde1-2430-43aa-81ab-c2aaed1eebae div.sk-dashed-wrapped {border: 1px dashed gray;margin: 0.2em;box-sizing: border-box;padding-bottom: 0.1em;background-color: white;position: relative;}#sk-544bdde1-2430-43aa-81ab-c2aaed1eebae div.sk-label label {font-family: monospace;font-weight: bold;background-color: white;display: inline-block;line-height: 1.2em;}#sk-544bdde1-2430-43aa-81ab-c2aaed1eebae div.sk-label-container {position: relative;z-index: 2;text-align: center;}#sk-544bdde1-2430-43aa-81ab-c2aaed1eebae div.sk-container {display: inline-block;position: relative;}</style><div id=\"sk-544bdde1-2430-43aa-81ab-c2aaed1eebae\" class\"sk-top-container\"><div class=\"sk-container\"><div class=\"sk-item sk-dashed-wrapped\"><div class=\"sk-label-container\"><div class=\"sk-label sk-toggleable\"><input class=\"sk-toggleable__control sk-hidden--visually\" id=\"02a7bdc2-0f99-49ea-af8c-1665bc7c18ca\" type=\"checkbox\" ><label class=\"sk-toggleable__label\" for=\"02a7bdc2-0f99-49ea-af8c-1665bc7c18ca\">Pipeline</label><div class=\"sk-toggleable__content\"><pre>Pipeline(steps=[('simpleimputer', SimpleImputer()),\n",
       "                ('standardscaler', StandardScaler())])</pre></div></div></div><div class=\"sk-serial\"><div class=\"sk-item\"><div class=\"sk-estimator sk-toggleable\"><input class=\"sk-toggleable__control sk-hidden--visually\" id=\"4212c16a-7ace-4921-b839-5cec21f46048\" type=\"checkbox\" ><label class=\"sk-toggleable__label\" for=\"4212c16a-7ace-4921-b839-5cec21f46048\">SimpleImputer</label><div class=\"sk-toggleable__content\"><pre>SimpleImputer()</pre></div></div></div><div class=\"sk-item\"><div class=\"sk-estimator sk-toggleable\"><input class=\"sk-toggleable__control sk-hidden--visually\" id=\"0713dcf0-a5bc-4252-8cd0-adcdfef713b7\" type=\"checkbox\" ><label class=\"sk-toggleable__label\" for=\"0713dcf0-a5bc-4252-8cd0-adcdfef713b7\">StandardScaler</label><div class=\"sk-toggleable__content\"><pre>StandardScaler()</pre></div></div></div></div></div></div></div>"
      ],
      "text/plain": [
       "Pipeline(steps=[('simpleimputer', SimpleImputer()),\n",
       "                ('standardscaler', StandardScaler())])"
      ]
     },
     "execution_count": 15,
     "metadata": {},
     "output_type": "execute_result"
    }
   ],
   "source": [
    "# Numeric pipeline\n",
    "numeric_pipe = make_pipeline(mean_imputer, scaler)\n",
    "numeric_pipe"
   ]
  },
  {
   "cell_type": "code",
   "execution_count": 16,
   "metadata": {},
   "outputs": [
    {
     "data": {
      "text/html": [
       "<style>#sk-7c1d12a1-648a-4bcf-8b15-9b7c66082a07 {color: black;background-color: white;}#sk-7c1d12a1-648a-4bcf-8b15-9b7c66082a07 pre{padding: 0;}#sk-7c1d12a1-648a-4bcf-8b15-9b7c66082a07 div.sk-toggleable {background-color: white;}#sk-7c1d12a1-648a-4bcf-8b15-9b7c66082a07 label.sk-toggleable__label {cursor: pointer;display: block;width: 100%;margin-bottom: 0;padding: 0.2em 0.3em;box-sizing: border-box;text-align: center;}#sk-7c1d12a1-648a-4bcf-8b15-9b7c66082a07 div.sk-toggleable__content {max-height: 0;max-width: 0;overflow: hidden;text-align: left;background-color: #f0f8ff;}#sk-7c1d12a1-648a-4bcf-8b15-9b7c66082a07 div.sk-toggleable__content pre {margin: 0.2em;color: black;border-radius: 0.25em;background-color: #f0f8ff;}#sk-7c1d12a1-648a-4bcf-8b15-9b7c66082a07 input.sk-toggleable__control:checked~div.sk-toggleable__content {max-height: 200px;max-width: 100%;overflow: auto;}#sk-7c1d12a1-648a-4bcf-8b15-9b7c66082a07 div.sk-estimator input.sk-toggleable__control:checked~label.sk-toggleable__label {background-color: #d4ebff;}#sk-7c1d12a1-648a-4bcf-8b15-9b7c66082a07 div.sk-label input.sk-toggleable__control:checked~label.sk-toggleable__label {background-color: #d4ebff;}#sk-7c1d12a1-648a-4bcf-8b15-9b7c66082a07 input.sk-hidden--visually {border: 0;clip: rect(1px 1px 1px 1px);clip: rect(1px, 1px, 1px, 1px);height: 1px;margin: -1px;overflow: hidden;padding: 0;position: absolute;width: 1px;}#sk-7c1d12a1-648a-4bcf-8b15-9b7c66082a07 div.sk-estimator {font-family: monospace;background-color: #f0f8ff;margin: 0.25em 0.25em;border: 1px dotted black;border-radius: 0.25em;box-sizing: border-box;}#sk-7c1d12a1-648a-4bcf-8b15-9b7c66082a07 div.sk-estimator:hover {background-color: #d4ebff;}#sk-7c1d12a1-648a-4bcf-8b15-9b7c66082a07 div.sk-parallel-item::after {content: \"\";width: 100%;border-bottom: 1px solid gray;flex-grow: 1;}#sk-7c1d12a1-648a-4bcf-8b15-9b7c66082a07 div.sk-label:hover label.sk-toggleable__label {background-color: #d4ebff;}#sk-7c1d12a1-648a-4bcf-8b15-9b7c66082a07 div.sk-serial::before {content: \"\";position: absolute;border-left: 1px solid gray;box-sizing: border-box;top: 2em;bottom: 0;left: 50%;}#sk-7c1d12a1-648a-4bcf-8b15-9b7c66082a07 div.sk-serial {display: flex;flex-direction: column;align-items: center;background-color: white;}#sk-7c1d12a1-648a-4bcf-8b15-9b7c66082a07 div.sk-item {z-index: 1;}#sk-7c1d12a1-648a-4bcf-8b15-9b7c66082a07 div.sk-parallel {display: flex;align-items: stretch;justify-content: center;background-color: white;}#sk-7c1d12a1-648a-4bcf-8b15-9b7c66082a07 div.sk-parallel-item {display: flex;flex-direction: column;position: relative;background-color: white;}#sk-7c1d12a1-648a-4bcf-8b15-9b7c66082a07 div.sk-parallel-item:first-child::after {align-self: flex-end;width: 50%;}#sk-7c1d12a1-648a-4bcf-8b15-9b7c66082a07 div.sk-parallel-item:last-child::after {align-self: flex-start;width: 50%;}#sk-7c1d12a1-648a-4bcf-8b15-9b7c66082a07 div.sk-parallel-item:only-child::after {width: 0;}#sk-7c1d12a1-648a-4bcf-8b15-9b7c66082a07 div.sk-dashed-wrapped {border: 1px dashed gray;margin: 0.2em;box-sizing: border-box;padding-bottom: 0.1em;background-color: white;position: relative;}#sk-7c1d12a1-648a-4bcf-8b15-9b7c66082a07 div.sk-label label {font-family: monospace;font-weight: bold;background-color: white;display: inline-block;line-height: 1.2em;}#sk-7c1d12a1-648a-4bcf-8b15-9b7c66082a07 div.sk-label-container {position: relative;z-index: 2;text-align: center;}#sk-7c1d12a1-648a-4bcf-8b15-9b7c66082a07 div.sk-container {display: inline-block;position: relative;}</style><div id=\"sk-7c1d12a1-648a-4bcf-8b15-9b7c66082a07\" class\"sk-top-container\"><div class=\"sk-container\"><div class=\"sk-item sk-dashed-wrapped\"><div class=\"sk-label-container\"><div class=\"sk-label sk-toggleable\"><input class=\"sk-toggleable__control sk-hidden--visually\" id=\"d9c86bb8-f657-4b19-886a-dcecc824a5d4\" type=\"checkbox\" ><label class=\"sk-toggleable__label\" for=\"d9c86bb8-f657-4b19-886a-dcecc824a5d4\">Pipeline</label><div class=\"sk-toggleable__content\"><pre>Pipeline(steps=[('simpleimputer', SimpleImputer(strategy='most_frequent')),\n",
       "                ('onehotencoder',\n",
       "                 OneHotEncoder(handle_unknown='ignore', sparse=False))])</pre></div></div></div><div class=\"sk-serial\"><div class=\"sk-item\"><div class=\"sk-estimator sk-toggleable\"><input class=\"sk-toggleable__control sk-hidden--visually\" id=\"cf968bbe-526f-491f-960c-d321e2e60ede\" type=\"checkbox\" ><label class=\"sk-toggleable__label\" for=\"cf968bbe-526f-491f-960c-d321e2e60ede\">SimpleImputer</label><div class=\"sk-toggleable__content\"><pre>SimpleImputer(strategy='most_frequent')</pre></div></div></div><div class=\"sk-item\"><div class=\"sk-estimator sk-toggleable\"><input class=\"sk-toggleable__control sk-hidden--visually\" id=\"91bed660-0943-4045-bd6d-f539fd3cb33a\" type=\"checkbox\" ><label class=\"sk-toggleable__label\" for=\"91bed660-0943-4045-bd6d-f539fd3cb33a\">OneHotEncoder</label><div class=\"sk-toggleable__content\"><pre>OneHotEncoder(handle_unknown='ignore', sparse=False)</pre></div></div></div></div></div></div></div>"
      ],
      "text/plain": [
       "Pipeline(steps=[('simpleimputer', SimpleImputer(strategy='most_frequent')),\n",
       "                ('onehotencoder',\n",
       "                 OneHotEncoder(handle_unknown='ignore', sparse=False))])"
      ]
     },
     "execution_count": 16,
     "metadata": {},
     "output_type": "execute_result"
    }
   ],
   "source": [
    "# Categorical pipeline\n",
    "categorical_pipe = make_pipeline(freq_imputer, ohe)\n",
    "categorical_pipe"
   ]
  },
  {
   "cell_type": "code",
   "execution_count": 17,
   "metadata": {},
   "outputs": [
    {
     "data": {
      "text/html": [
       "<style>#sk-3c976bdf-88f8-4d6b-8c5b-49d418a88c8b {color: black;background-color: white;}#sk-3c976bdf-88f8-4d6b-8c5b-49d418a88c8b pre{padding: 0;}#sk-3c976bdf-88f8-4d6b-8c5b-49d418a88c8b div.sk-toggleable {background-color: white;}#sk-3c976bdf-88f8-4d6b-8c5b-49d418a88c8b label.sk-toggleable__label {cursor: pointer;display: block;width: 100%;margin-bottom: 0;padding: 0.2em 0.3em;box-sizing: border-box;text-align: center;}#sk-3c976bdf-88f8-4d6b-8c5b-49d418a88c8b div.sk-toggleable__content {max-height: 0;max-width: 0;overflow: hidden;text-align: left;background-color: #f0f8ff;}#sk-3c976bdf-88f8-4d6b-8c5b-49d418a88c8b div.sk-toggleable__content pre {margin: 0.2em;color: black;border-radius: 0.25em;background-color: #f0f8ff;}#sk-3c976bdf-88f8-4d6b-8c5b-49d418a88c8b input.sk-toggleable__control:checked~div.sk-toggleable__content {max-height: 200px;max-width: 100%;overflow: auto;}#sk-3c976bdf-88f8-4d6b-8c5b-49d418a88c8b div.sk-estimator input.sk-toggleable__control:checked~label.sk-toggleable__label {background-color: #d4ebff;}#sk-3c976bdf-88f8-4d6b-8c5b-49d418a88c8b div.sk-label input.sk-toggleable__control:checked~label.sk-toggleable__label {background-color: #d4ebff;}#sk-3c976bdf-88f8-4d6b-8c5b-49d418a88c8b input.sk-hidden--visually {border: 0;clip: rect(1px 1px 1px 1px);clip: rect(1px, 1px, 1px, 1px);height: 1px;margin: -1px;overflow: hidden;padding: 0;position: absolute;width: 1px;}#sk-3c976bdf-88f8-4d6b-8c5b-49d418a88c8b div.sk-estimator {font-family: monospace;background-color: #f0f8ff;margin: 0.25em 0.25em;border: 1px dotted black;border-radius: 0.25em;box-sizing: border-box;}#sk-3c976bdf-88f8-4d6b-8c5b-49d418a88c8b div.sk-estimator:hover {background-color: #d4ebff;}#sk-3c976bdf-88f8-4d6b-8c5b-49d418a88c8b div.sk-parallel-item::after {content: \"\";width: 100%;border-bottom: 1px solid gray;flex-grow: 1;}#sk-3c976bdf-88f8-4d6b-8c5b-49d418a88c8b div.sk-label:hover label.sk-toggleable__label {background-color: #d4ebff;}#sk-3c976bdf-88f8-4d6b-8c5b-49d418a88c8b div.sk-serial::before {content: \"\";position: absolute;border-left: 1px solid gray;box-sizing: border-box;top: 2em;bottom: 0;left: 50%;}#sk-3c976bdf-88f8-4d6b-8c5b-49d418a88c8b div.sk-serial {display: flex;flex-direction: column;align-items: center;background-color: white;}#sk-3c976bdf-88f8-4d6b-8c5b-49d418a88c8b div.sk-item {z-index: 1;}#sk-3c976bdf-88f8-4d6b-8c5b-49d418a88c8b div.sk-parallel {display: flex;align-items: stretch;justify-content: center;background-color: white;}#sk-3c976bdf-88f8-4d6b-8c5b-49d418a88c8b div.sk-parallel-item {display: flex;flex-direction: column;position: relative;background-color: white;}#sk-3c976bdf-88f8-4d6b-8c5b-49d418a88c8b div.sk-parallel-item:first-child::after {align-self: flex-end;width: 50%;}#sk-3c976bdf-88f8-4d6b-8c5b-49d418a88c8b div.sk-parallel-item:last-child::after {align-self: flex-start;width: 50%;}#sk-3c976bdf-88f8-4d6b-8c5b-49d418a88c8b div.sk-parallel-item:only-child::after {width: 0;}#sk-3c976bdf-88f8-4d6b-8c5b-49d418a88c8b div.sk-dashed-wrapped {border: 1px dashed gray;margin: 0.2em;box-sizing: border-box;padding-bottom: 0.1em;background-color: white;position: relative;}#sk-3c976bdf-88f8-4d6b-8c5b-49d418a88c8b div.sk-label label {font-family: monospace;font-weight: bold;background-color: white;display: inline-block;line-height: 1.2em;}#sk-3c976bdf-88f8-4d6b-8c5b-49d418a88c8b div.sk-label-container {position: relative;z-index: 2;text-align: center;}#sk-3c976bdf-88f8-4d6b-8c5b-49d418a88c8b div.sk-container {display: inline-block;position: relative;}</style><div id=\"sk-3c976bdf-88f8-4d6b-8c5b-49d418a88c8b\" class\"sk-top-container\"><div class=\"sk-container\"><div class=\"sk-item sk-dashed-wrapped\"><div class=\"sk-label-container\"><div class=\"sk-label sk-toggleable\"><input class=\"sk-toggleable__control sk-hidden--visually\" id=\"1f75b5d0-7e99-4f68-84bc-4a82ae601f14\" type=\"checkbox\" ><label class=\"sk-toggleable__label\" for=\"1f75b5d0-7e99-4f68-84bc-4a82ae601f14\">ColumnTransformer</label><div class=\"sk-toggleable__content\"><pre>ColumnTransformer(transformers=[('pipeline-1',\n",
       "                                 Pipeline(steps=[('simpleimputer',\n",
       "                                                  SimpleImputer()),\n",
       "                                                 ('standardscaler',\n",
       "                                                  StandardScaler())]),\n",
       "                                 <sklearn.compose._column_transformer.make_column_selector object at 0x0000019F29B877B8>),\n",
       "                                ('pipeline-2',\n",
       "                                 Pipeline(steps=[('simpleimputer',\n",
       "                                                  SimpleImputer(strategy='most_frequent')),\n",
       "                                                 ('onehotencoder',\n",
       "                                                  OneHotEncoder(handle_unknown='ignore',\n",
       "                                                                sparse=False))]),\n",
       "                                 <sklearn.compose._column_transformer.make_column_selector object at 0x0000019F29B87C50>)])</pre></div></div></div><div class=\"sk-parallel\"><div class=\"sk-parallel-item\"><div class=\"sk-item\"><div class=\"sk-label-container\"><div class=\"sk-label sk-toggleable\"><input class=\"sk-toggleable__control sk-hidden--visually\" id=\"695acbe6-b7a9-46a9-a7a1-ab57012e5fe0\" type=\"checkbox\" ><label class=\"sk-toggleable__label\" for=\"695acbe6-b7a9-46a9-a7a1-ab57012e5fe0\">pipeline-1</label><div class=\"sk-toggleable__content\"><pre><sklearn.compose._column_transformer.make_column_selector object at 0x0000019F29B877B8></pre></div></div></div><div class=\"sk-serial\"><div class=\"sk-item\"><div class=\"sk-serial\"><div class=\"sk-item\"><div class=\"sk-estimator sk-toggleable\"><input class=\"sk-toggleable__control sk-hidden--visually\" id=\"7dd8388d-0c99-4022-90ae-d156f76cf5b4\" type=\"checkbox\" ><label class=\"sk-toggleable__label\" for=\"7dd8388d-0c99-4022-90ae-d156f76cf5b4\">SimpleImputer</label><div class=\"sk-toggleable__content\"><pre>SimpleImputer()</pre></div></div></div><div class=\"sk-item\"><div class=\"sk-estimator sk-toggleable\"><input class=\"sk-toggleable__control sk-hidden--visually\" id=\"60135934-66ce-407e-b065-55ebaa082c24\" type=\"checkbox\" ><label class=\"sk-toggleable__label\" for=\"60135934-66ce-407e-b065-55ebaa082c24\">StandardScaler</label><div class=\"sk-toggleable__content\"><pre>StandardScaler()</pre></div></div></div></div></div></div></div></div><div class=\"sk-parallel-item\"><div class=\"sk-item\"><div class=\"sk-label-container\"><div class=\"sk-label sk-toggleable\"><input class=\"sk-toggleable__control sk-hidden--visually\" id=\"acf9819b-4f18-4754-bb0f-9bdeecd0b448\" type=\"checkbox\" ><label class=\"sk-toggleable__label\" for=\"acf9819b-4f18-4754-bb0f-9bdeecd0b448\">pipeline-2</label><div class=\"sk-toggleable__content\"><pre><sklearn.compose._column_transformer.make_column_selector object at 0x0000019F29B87C50></pre></div></div></div><div class=\"sk-serial\"><div class=\"sk-item\"><div class=\"sk-serial\"><div class=\"sk-item\"><div class=\"sk-estimator sk-toggleable\"><input class=\"sk-toggleable__control sk-hidden--visually\" id=\"52c62852-7b9c-4117-bbdd-545fe8a4e5b2\" type=\"checkbox\" ><label class=\"sk-toggleable__label\" for=\"52c62852-7b9c-4117-bbdd-545fe8a4e5b2\">SimpleImputer</label><div class=\"sk-toggleable__content\"><pre>SimpleImputer(strategy='most_frequent')</pre></div></div></div><div class=\"sk-item\"><div class=\"sk-estimator sk-toggleable\"><input class=\"sk-toggleable__control sk-hidden--visually\" id=\"5955cf81-da76-4ac7-901c-146e90e4fcf5\" type=\"checkbox\" ><label class=\"sk-toggleable__label\" for=\"5955cf81-da76-4ac7-901c-146e90e4fcf5\">OneHotEncoder</label><div class=\"sk-toggleable__content\"><pre>OneHotEncoder(handle_unknown='ignore', sparse=False)</pre></div></div></div></div></div></div></div></div></div></div></div></div>"
      ],
      "text/plain": [
       "ColumnTransformer(transformers=[('pipeline-1',\n",
       "                                 Pipeline(steps=[('simpleimputer',\n",
       "                                                  SimpleImputer()),\n",
       "                                                 ('standardscaler',\n",
       "                                                  StandardScaler())]),\n",
       "                                 <sklearn.compose._column_transformer.make_column_selector object at 0x0000019F29B877B8>),\n",
       "                                ('pipeline-2',\n",
       "                                 Pipeline(steps=[('simpleimputer',\n",
       "                                                  SimpleImputer(strategy='most_frequent')),\n",
       "                                                 ('onehotencoder',\n",
       "                                                  OneHotEncoder(handle_unknown='ignore',\n",
       "                                                                sparse=False))]),\n",
       "                                 <sklearn.compose._column_transformer.make_column_selector object at 0x0000019F29B87C50>)])"
      ]
     },
     "execution_count": 17,
     "metadata": {},
     "output_type": "execute_result"
    }
   ],
   "source": [
    "# Tuples para Column Transformer\n",
    "number_tuple = (numeric_pipe, num_selector)\n",
    "category_tuple = (categorical_pipe, cat_selector)\n",
    "# ColumnTransformer\n",
    "preprocessor = make_column_transformer(number_tuple, category_tuple)\n",
    "preprocessor"
   ]
  },
  {
   "cell_type": "code",
   "execution_count": 18,
   "metadata": {},
   "outputs": [
    {
     "data": {
      "text/html": [
       "<style>#sk-b9a57f44-5b91-4ff0-8467-5415cba0a036 {color: black;background-color: white;}#sk-b9a57f44-5b91-4ff0-8467-5415cba0a036 pre{padding: 0;}#sk-b9a57f44-5b91-4ff0-8467-5415cba0a036 div.sk-toggleable {background-color: white;}#sk-b9a57f44-5b91-4ff0-8467-5415cba0a036 label.sk-toggleable__label {cursor: pointer;display: block;width: 100%;margin-bottom: 0;padding: 0.2em 0.3em;box-sizing: border-box;text-align: center;}#sk-b9a57f44-5b91-4ff0-8467-5415cba0a036 div.sk-toggleable__content {max-height: 0;max-width: 0;overflow: hidden;text-align: left;background-color: #f0f8ff;}#sk-b9a57f44-5b91-4ff0-8467-5415cba0a036 div.sk-toggleable__content pre {margin: 0.2em;color: black;border-radius: 0.25em;background-color: #f0f8ff;}#sk-b9a57f44-5b91-4ff0-8467-5415cba0a036 input.sk-toggleable__control:checked~div.sk-toggleable__content {max-height: 200px;max-width: 100%;overflow: auto;}#sk-b9a57f44-5b91-4ff0-8467-5415cba0a036 div.sk-estimator input.sk-toggleable__control:checked~label.sk-toggleable__label {background-color: #d4ebff;}#sk-b9a57f44-5b91-4ff0-8467-5415cba0a036 div.sk-label input.sk-toggleable__control:checked~label.sk-toggleable__label {background-color: #d4ebff;}#sk-b9a57f44-5b91-4ff0-8467-5415cba0a036 input.sk-hidden--visually {border: 0;clip: rect(1px 1px 1px 1px);clip: rect(1px, 1px, 1px, 1px);height: 1px;margin: -1px;overflow: hidden;padding: 0;position: absolute;width: 1px;}#sk-b9a57f44-5b91-4ff0-8467-5415cba0a036 div.sk-estimator {font-family: monospace;background-color: #f0f8ff;margin: 0.25em 0.25em;border: 1px dotted black;border-radius: 0.25em;box-sizing: border-box;}#sk-b9a57f44-5b91-4ff0-8467-5415cba0a036 div.sk-estimator:hover {background-color: #d4ebff;}#sk-b9a57f44-5b91-4ff0-8467-5415cba0a036 div.sk-parallel-item::after {content: \"\";width: 100%;border-bottom: 1px solid gray;flex-grow: 1;}#sk-b9a57f44-5b91-4ff0-8467-5415cba0a036 div.sk-label:hover label.sk-toggleable__label {background-color: #d4ebff;}#sk-b9a57f44-5b91-4ff0-8467-5415cba0a036 div.sk-serial::before {content: \"\";position: absolute;border-left: 1px solid gray;box-sizing: border-box;top: 2em;bottom: 0;left: 50%;}#sk-b9a57f44-5b91-4ff0-8467-5415cba0a036 div.sk-serial {display: flex;flex-direction: column;align-items: center;background-color: white;}#sk-b9a57f44-5b91-4ff0-8467-5415cba0a036 div.sk-item {z-index: 1;}#sk-b9a57f44-5b91-4ff0-8467-5415cba0a036 div.sk-parallel {display: flex;align-items: stretch;justify-content: center;background-color: white;}#sk-b9a57f44-5b91-4ff0-8467-5415cba0a036 div.sk-parallel-item {display: flex;flex-direction: column;position: relative;background-color: white;}#sk-b9a57f44-5b91-4ff0-8467-5415cba0a036 div.sk-parallel-item:first-child::after {align-self: flex-end;width: 50%;}#sk-b9a57f44-5b91-4ff0-8467-5415cba0a036 div.sk-parallel-item:last-child::after {align-self: flex-start;width: 50%;}#sk-b9a57f44-5b91-4ff0-8467-5415cba0a036 div.sk-parallel-item:only-child::after {width: 0;}#sk-b9a57f44-5b91-4ff0-8467-5415cba0a036 div.sk-dashed-wrapped {border: 1px dashed gray;margin: 0.2em;box-sizing: border-box;padding-bottom: 0.1em;background-color: white;position: relative;}#sk-b9a57f44-5b91-4ff0-8467-5415cba0a036 div.sk-label label {font-family: monospace;font-weight: bold;background-color: white;display: inline-block;line-height: 1.2em;}#sk-b9a57f44-5b91-4ff0-8467-5415cba0a036 div.sk-label-container {position: relative;z-index: 2;text-align: center;}#sk-b9a57f44-5b91-4ff0-8467-5415cba0a036 div.sk-container {display: inline-block;position: relative;}</style><div id=\"sk-b9a57f44-5b91-4ff0-8467-5415cba0a036\" class\"sk-top-container\"><div class=\"sk-container\"><div class=\"sk-item sk-dashed-wrapped\"><div class=\"sk-label-container\"><div class=\"sk-label sk-toggleable\"><input class=\"sk-toggleable__control sk-hidden--visually\" id=\"b66efda1-dc1a-4405-ac3d-3d7e0cafa4ed\" type=\"checkbox\" ><label class=\"sk-toggleable__label\" for=\"b66efda1-dc1a-4405-ac3d-3d7e0cafa4ed\">ColumnTransformer</label><div class=\"sk-toggleable__content\"><pre>ColumnTransformer(transformers=[('pipeline-1',\n",
       "                                 Pipeline(steps=[('simpleimputer',\n",
       "                                                  SimpleImputer()),\n",
       "                                                 ('standardscaler',\n",
       "                                                  StandardScaler())]),\n",
       "                                 <sklearn.compose._column_transformer.make_column_selector object at 0x0000019F29B877B8>),\n",
       "                                ('pipeline-2',\n",
       "                                 Pipeline(steps=[('simpleimputer',\n",
       "                                                  SimpleImputer(strategy='most_frequent')),\n",
       "                                                 ('onehotencoder',\n",
       "                                                  OneHotEncoder(handle_unknown='ignore',\n",
       "                                                                sparse=False))]),\n",
       "                                 <sklearn.compose._column_transformer.make_column_selector object at 0x0000019F29B87C50>)])</pre></div></div></div><div class=\"sk-parallel\"><div class=\"sk-parallel-item\"><div class=\"sk-item\"><div class=\"sk-label-container\"><div class=\"sk-label sk-toggleable\"><input class=\"sk-toggleable__control sk-hidden--visually\" id=\"a2bc5dc9-f4e9-4926-9716-3b6f54b31f70\" type=\"checkbox\" ><label class=\"sk-toggleable__label\" for=\"a2bc5dc9-f4e9-4926-9716-3b6f54b31f70\">pipeline-1</label><div class=\"sk-toggleable__content\"><pre><sklearn.compose._column_transformer.make_column_selector object at 0x0000019F29B877B8></pre></div></div></div><div class=\"sk-serial\"><div class=\"sk-item\"><div class=\"sk-serial\"><div class=\"sk-item\"><div class=\"sk-estimator sk-toggleable\"><input class=\"sk-toggleable__control sk-hidden--visually\" id=\"7472e2ed-c7cf-450b-905c-565e06bf4d65\" type=\"checkbox\" ><label class=\"sk-toggleable__label\" for=\"7472e2ed-c7cf-450b-905c-565e06bf4d65\">SimpleImputer</label><div class=\"sk-toggleable__content\"><pre>SimpleImputer()</pre></div></div></div><div class=\"sk-item\"><div class=\"sk-estimator sk-toggleable\"><input class=\"sk-toggleable__control sk-hidden--visually\" id=\"4168a9dc-962a-4ef3-851d-c9973de4088f\" type=\"checkbox\" ><label class=\"sk-toggleable__label\" for=\"4168a9dc-962a-4ef3-851d-c9973de4088f\">StandardScaler</label><div class=\"sk-toggleable__content\"><pre>StandardScaler()</pre></div></div></div></div></div></div></div></div><div class=\"sk-parallel-item\"><div class=\"sk-item\"><div class=\"sk-label-container\"><div class=\"sk-label sk-toggleable\"><input class=\"sk-toggleable__control sk-hidden--visually\" id=\"47bbbf01-8949-4791-b01d-0a2f8ae92922\" type=\"checkbox\" ><label class=\"sk-toggleable__label\" for=\"47bbbf01-8949-4791-b01d-0a2f8ae92922\">pipeline-2</label><div class=\"sk-toggleable__content\"><pre><sklearn.compose._column_transformer.make_column_selector object at 0x0000019F29B87C50></pre></div></div></div><div class=\"sk-serial\"><div class=\"sk-item\"><div class=\"sk-serial\"><div class=\"sk-item\"><div class=\"sk-estimator sk-toggleable\"><input class=\"sk-toggleable__control sk-hidden--visually\" id=\"3d33c66b-8ad5-444e-bda1-f9abbd40b94f\" type=\"checkbox\" ><label class=\"sk-toggleable__label\" for=\"3d33c66b-8ad5-444e-bda1-f9abbd40b94f\">SimpleImputer</label><div class=\"sk-toggleable__content\"><pre>SimpleImputer(strategy='most_frequent')</pre></div></div></div><div class=\"sk-item\"><div class=\"sk-estimator sk-toggleable\"><input class=\"sk-toggleable__control sk-hidden--visually\" id=\"657fa533-f840-4d35-b25e-74f1e7485464\" type=\"checkbox\" ><label class=\"sk-toggleable__label\" for=\"657fa533-f840-4d35-b25e-74f1e7485464\">OneHotEncoder</label><div class=\"sk-toggleable__content\"><pre>OneHotEncoder(handle_unknown='ignore', sparse=False)</pre></div></div></div></div></div></div></div></div></div></div></div></div>"
      ],
      "text/plain": [
       "ColumnTransformer(transformers=[('pipeline-1',\n",
       "                                 Pipeline(steps=[('simpleimputer',\n",
       "                                                  SimpleImputer()),\n",
       "                                                 ('standardscaler',\n",
       "                                                  StandardScaler())]),\n",
       "                                 <sklearn.compose._column_transformer.make_column_selector object at 0x0000019F29B877B8>),\n",
       "                                ('pipeline-2',\n",
       "                                 Pipeline(steps=[('simpleimputer',\n",
       "                                                  SimpleImputer(strategy='most_frequent')),\n",
       "                                                 ('onehotencoder',\n",
       "                                                  OneHotEncoder(handle_unknown='ignore',\n",
       "                                                                sparse=False))]),\n",
       "                                 <sklearn.compose._column_transformer.make_column_selector object at 0x0000019F29B87C50>)])"
      ]
     },
     "execution_count": 18,
     "metadata": {},
     "output_type": "execute_result"
    }
   ],
   "source": [
    "# fit on train\n",
    "preprocessor.fit(X_train)"
   ]
  },
  {
   "cell_type": "code",
   "execution_count": 19,
   "metadata": {},
   "outputs": [],
   "source": [
    "# transform train and test\n",
    "X_train_processed = preprocessor.transform(X_train)\n",
    "X_test_processed = preprocessor.transform(X_test)"
   ]
  },
  {
   "cell_type": "code",
   "execution_count": 20,
   "metadata": {},
   "outputs": [
    {
     "name": "stdout",
     "output_type": "stream",
     "text": [
      "0 missing values in training data\n",
      "0 missing values in testing data\n",
      "\n",
      "\n",
      "All data in X_train_processed are float64\n",
      "All data in X_test_processed are float64\n",
      "\n",
      "\n",
      "shape of data is (57, 76)\n",
      "\n",
      "\n"
     ]
    },
    {
     "data": {
      "text/plain": [
       "array([[-0.22248742, -1.30301442, -0.97467943, ...,  0.        ,\n",
       "         0.        ,  0.        ],\n",
       "       [-0.22248742,  0.40438378,  0.        , ...,  0.        ,\n",
       "         0.        ,  0.        ],\n",
       "       [-0.22248742,  0.40438378, -0.97467943, ...,  0.        ,\n",
       "         0.        ,  0.        ],\n",
       "       ...,\n",
       "       [ 0.        ,  1.25808288,  1.94935887, ...,  0.        ,\n",
       "         0.        ,  1.        ],\n",
       "       [-0.22248742,  0.40438378,  0.97467943, ...,  0.        ,\n",
       "         0.        ,  0.        ],\n",
       "       [-0.22248742,  0.40438378,  0.        , ...,  1.        ,\n",
       "         0.        ,  0.        ]])"
      ]
     },
     "execution_count": 20,
     "metadata": {},
     "output_type": "execute_result"
    }
   ],
   "source": [
    "# Comprueben los valores faltantes y que los datos se escalen y tengan una codificación one-hot\n",
    "print(np.isnan(X_train_processed).sum().sum(), 'missing values in training data')\n",
    "print(np.isnan(X_test_processed).sum().sum(), 'missing values in testing data')\n",
    "print('\\n')\n",
    "print('All data in X_train_processed are', X_train_processed.dtype)\n",
    "print('All data in X_test_processed are', X_test_processed.dtype)\n",
    "print('\\n')\n",
    "print('shape of data is', X_train_processed.shape)\n",
    "print('\\n')\n",
    "X_train_processed"
   ]
  }
 ],
 "metadata": {
  "kernelspec": {
   "display_name": "Python 3",
   "language": "python",
   "name": "python3"
  },
  "language_info": {
   "codemirror_mode": {
    "name": "ipython",
    "version": 3
   },
   "file_extension": ".py",
   "mimetype": "text/x-python",
   "name": "python",
   "nbconvert_exporter": "python",
   "pygments_lexer": "ipython3",
   "version": "3.6.4"
  },
  "orig_nbformat": 4,
  "vscode": {
   "interpreter": {
    "hash": "b397f95bef55022d8a920d3324b066227adbc996278ad6fc93c42bc0fb1b33bd"
   }
  }
 },
 "nbformat": 4,
 "nbformat_minor": 2
}
